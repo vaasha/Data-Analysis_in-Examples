{
 "cells": [
  {
   "cell_type": "markdown",
   "metadata": {},
   "source": [
    "# Removing blank spaces in csv with Pandas\n",
    "CSV is a very common format for sharing the data. It's human readable (more-or-less), it's commonly undestandable and almost every programming language can read it. Unfortunately sometime the structure of the .csv file doesn't meet the rfc4180 (https://tools.ietf.org/html/rfc4180). This notebook provides options how to handle blank spaces, which are wrongly part of the csv. \n",
    "\n",
    "## Why do we care about removing blank space? \n",
    "There are two main reasons: \n",
    "* merging on values with and without blank spaces would fail \" ABC\" != \"ABC\"\n",
    "* \"\", \" \" and NaN values behaves differenly\n",
    "* blank spaces takes some place\n",
    "* blank spaces might be breaking text design"
   ]
  },
  {
   "cell_type": "code",
   "execution_count": 1,
   "metadata": {},
   "outputs": [],
   "source": [
    "import pandas as pd\n",
    "import numpy as np\n",
    "import io"
   ]
  },
  {
   "cell_type": "markdown",
   "metadata": {},
   "source": [
    "In our sample data we have:\n",
    "* **Id** which identifies each row\n",
    "* **Street** which has initial and trailing white space\n",
    "* **City** which has leading blank space\n",
    "* **Salary** which is numeric\n",
    "* **Date** which has date format"
   ]
  },
  {
   "cell_type": "code",
   "execution_count": 2,
   "metadata": {},
   "outputs": [],
   "source": [
    "data = \"\"\"Id,Street,City,Salary,Date\n",
    "1, 5th Ave. , Indiana, 100, 2020-07-01\n",
    "2, Downing Street , San Francisco, 200, 2020-07-02\n",
    "3,  , New York, 300, 2020-07-03\n",
    "4,   1600 Amphitheatre, New York, 400, 2020-07-04\n",
    "\"\"\""
   ]
  },
  {
   "cell_type": "markdown",
   "metadata": {},
   "source": [
    "We will also prepare a function which will measure lengths of all items in each column and checks their type"
   ]
  },
  {
   "cell_type": "code",
   "execution_count": 3,
   "metadata": {},
   "outputs": [],
   "source": [
    "expected = {\"Id\": 10,\n",
    "           \"Street\": 39,\n",
    "           \"City\": 36,\n",
    "           \"Salary\": 1000,\n",
    "           \"Date\": 4}"
   ]
  },
  {
   "cell_type": "code",
   "execution_count": 4,
   "metadata": {},
   "outputs": [],
   "source": [
    "def df_statistics(df, expected=None):\n",
    "    \"\"\"Calculates the length of all items in the column and determine column types\n",
    "       length of string\n",
    "       sum of numbers\"\"\"\n",
    "    \n",
    "    res = {}\n",
    "    for col in df.columns:\n",
    "        if pd.api.types.is_string_dtype(df[col]): \n",
    "            # calculate the length of each row and sum it\n",
    "            # careful, you cannot .apply(len) to columns which contain NAN, because NAN are float. - see https://stackoverflow.com/questions/51460881/pandas-typeerror-object-of-type-float-has-no-len\n",
    "            l = df[col].str.len().sum()\n",
    "        else:\n",
    "            try:# if it doesn't work, it's probably numeric value, so let's only sum\n",
    "                l = df[col].sum()\n",
    "            except:\n",
    "                l = df[col].count()\n",
    "        \n",
    "        # assigne lenght to the \"column_name_lenght\" column\n",
    "        res[str(col) + \"_lenght\"] = l\n",
    "        \n",
    "        # if a dict with expected values was provided, let's use it to compare with real values\n",
    "        if expected:\n",
    "            res[str(col) + \"_diff\"] = l-expected[col]\n",
    "            \n",
    "        # review the type of the colunmn   \n",
    "        res[str(col) + \"_type\"] = df[col].dtype\n",
    "    return res"
   ]
  },
  {
   "cell_type": "markdown",
   "metadata": {},
   "source": [
    "## Benchmark unparametrized read_csv"
   ]
  },
  {
   "cell_type": "code",
   "execution_count": 5,
   "metadata": {},
   "outputs": [],
   "source": [
    "df = pd.read_csv(io.StringIO(data), parse_dates=[\"Date\"])"
   ]
  },
  {
   "cell_type": "code",
   "execution_count": 6,
   "metadata": {},
   "outputs": [
    {
     "data": {
      "text/html": [
       "<div>\n",
       "<style scoped>\n",
       "    .dataframe tbody tr th:only-of-type {\n",
       "        vertical-align: middle;\n",
       "    }\n",
       "\n",
       "    .dataframe tbody tr th {\n",
       "        vertical-align: top;\n",
       "    }\n",
       "\n",
       "    .dataframe thead th {\n",
       "        text-align: right;\n",
       "    }\n",
       "</style>\n",
       "<table border=\"1\" class=\"dataframe\">\n",
       "  <thead>\n",
       "    <tr style=\"text-align: right;\">\n",
       "      <th></th>\n",
       "      <th>Id</th>\n",
       "      <th>Street</th>\n",
       "      <th>City</th>\n",
       "      <th>Salary</th>\n",
       "      <th>Date</th>\n",
       "    </tr>\n",
       "  </thead>\n",
       "  <tbody>\n",
       "    <tr>\n",
       "      <td>0</td>\n",
       "      <td>1</td>\n",
       "      <td>5th Ave.</td>\n",
       "      <td>Indiana</td>\n",
       "      <td>100</td>\n",
       "      <td>2020-07-01</td>\n",
       "    </tr>\n",
       "    <tr>\n",
       "      <td>1</td>\n",
       "      <td>2</td>\n",
       "      <td>Downing Street</td>\n",
       "      <td>San Francisco</td>\n",
       "      <td>200</td>\n",
       "      <td>2020-07-02</td>\n",
       "    </tr>\n",
       "    <tr>\n",
       "      <td>2</td>\n",
       "      <td>3</td>\n",
       "      <td></td>\n",
       "      <td>New York</td>\n",
       "      <td>300</td>\n",
       "      <td>2020-07-03</td>\n",
       "    </tr>\n",
       "    <tr>\n",
       "      <td>3</td>\n",
       "      <td>4</td>\n",
       "      <td>1600 Amphitheatre</td>\n",
       "      <td>New York</td>\n",
       "      <td>400</td>\n",
       "      <td>2020-07-04</td>\n",
       "    </tr>\n",
       "  </tbody>\n",
       "</table>\n",
       "</div>"
      ],
      "text/plain": [
       "   Id                Street            City  Salary       Date\n",
       "0   1             5th Ave.          Indiana     100 2020-07-01\n",
       "1   2       Downing Street    San Francisco     200 2020-07-02\n",
       "2   3                              New York     300 2020-07-03\n",
       "3   4     1600 Amphitheatre        New York     400 2020-07-04"
      ]
     },
     "execution_count": 6,
     "metadata": {},
     "output_type": "execute_result"
    }
   ],
   "source": [
    "df"
   ]
  },
  {
   "cell_type": "code",
   "execution_count": 7,
   "metadata": {},
   "outputs": [
    {
     "data": {
      "text/plain": [
       "(1, ' 5th Ave. ', ' Indiana', 100, Timestamp('2020-07-01 00:00:00'))"
      ]
     },
     "execution_count": 7,
     "metadata": {},
     "output_type": "execute_result"
    }
   ],
   "source": [
    "df.loc[0,\"Id\"], df.loc[0,\"Street\"], df.loc[0,\"City\"], df.loc[0,\"Salary\"], df.loc[0,\"Date\"]"
   ]
  },
  {
   "cell_type": "code",
   "execution_count": 8,
   "metadata": {},
   "outputs": [
    {
     "data": {
      "text/html": [
       "<div>\n",
       "<style scoped>\n",
       "    .dataframe tbody tr th:only-of-type {\n",
       "        vertical-align: middle;\n",
       "    }\n",
       "\n",
       "    .dataframe tbody tr th {\n",
       "        vertical-align: top;\n",
       "    }\n",
       "\n",
       "    .dataframe thead th {\n",
       "        text-align: right;\n",
       "    }\n",
       "</style>\n",
       "<table border=\"1\" class=\"dataframe\">\n",
       "  <thead>\n",
       "    <tr style=\"text-align: right;\">\n",
       "      <th></th>\n",
       "      <th>Id_lenght</th>\n",
       "      <th>Id_diff</th>\n",
       "      <th>Id_type</th>\n",
       "      <th>Street_lenght</th>\n",
       "      <th>Street_diff</th>\n",
       "      <th>Street_type</th>\n",
       "      <th>City_lenght</th>\n",
       "      <th>City_diff</th>\n",
       "      <th>City_type</th>\n",
       "      <th>Salary_lenght</th>\n",
       "      <th>Salary_diff</th>\n",
       "      <th>Salary_type</th>\n",
       "      <th>Date_lenght</th>\n",
       "      <th>Date_diff</th>\n",
       "      <th>Date_type</th>\n",
       "    </tr>\n",
       "  </thead>\n",
       "  <tbody>\n",
       "    <tr>\n",
       "      <td>Benchmark</td>\n",
       "      <td>10</td>\n",
       "      <td>0</td>\n",
       "      <td>int64</td>\n",
       "      <td>48</td>\n",
       "      <td>9</td>\n",
       "      <td>object</td>\n",
       "      <td>40</td>\n",
       "      <td>4</td>\n",
       "      <td>object</td>\n",
       "      <td>1000</td>\n",
       "      <td>0</td>\n",
       "      <td>int64</td>\n",
       "      <td>4</td>\n",
       "      <td>0</td>\n",
       "      <td>datetime64[ns]</td>\n",
       "    </tr>\n",
       "  </tbody>\n",
       "</table>\n",
       "</div>"
      ],
      "text/plain": [
       "           Id_lenght  Id_diff Id_type  Street_lenght  Street_diff Street_type  \\\n",
       "Benchmark         10        0   int64             48            9      object   \n",
       "\n",
       "           City_lenght  City_diff City_type  Salary_lenght  Salary_diff  \\\n",
       "Benchmark           40          4    object           1000            0   \n",
       "\n",
       "          Salary_type  Date_lenght  Date_diff       Date_type  \n",
       "Benchmark       int64            4          0  datetime64[ns]  "
      ]
     },
     "execution_count": 8,
     "metadata": {},
     "output_type": "execute_result"
    }
   ],
   "source": [
    "stats_df = pd.DataFrame(df_statistics(df, expected), index=[\"Benchmark\"])\n",
    "stats_df"
   ]
  },
  {
   "cell_type": "markdown",
   "metadata": {},
   "source": [
    "I'm not mentioning it here, but if you don't specify the column name in `parse_dates` parameter, it doesn't recognize the date, but it wouldn't even without the blank spaces."
   ]
  },
  {
   "cell_type": "markdown",
   "metadata": {},
   "source": [
    "## Using skipinitialspace\n",
    "skipinitialspace option is there exactly to clear the leading white spaces. It won't touch the blank spaces at the ends or inside quotes."
   ]
  },
  {
   "cell_type": "code",
   "execution_count": 9,
   "metadata": {},
   "outputs": [],
   "source": [
    "df = pd.read_csv(io.StringIO(data), parse_dates=[\"Date\"], skipinitialspace=True, )"
   ]
  },
  {
   "cell_type": "code",
   "execution_count": 10,
   "metadata": {},
   "outputs": [
    {
     "data": {
      "text/html": [
       "<div>\n",
       "<style scoped>\n",
       "    .dataframe tbody tr th:only-of-type {\n",
       "        vertical-align: middle;\n",
       "    }\n",
       "\n",
       "    .dataframe tbody tr th {\n",
       "        vertical-align: top;\n",
       "    }\n",
       "\n",
       "    .dataframe thead th {\n",
       "        text-align: right;\n",
       "    }\n",
       "</style>\n",
       "<table border=\"1\" class=\"dataframe\">\n",
       "  <thead>\n",
       "    <tr style=\"text-align: right;\">\n",
       "      <th></th>\n",
       "      <th>Id</th>\n",
       "      <th>Street</th>\n",
       "      <th>City</th>\n",
       "      <th>Salary</th>\n",
       "      <th>Date</th>\n",
       "    </tr>\n",
       "  </thead>\n",
       "  <tbody>\n",
       "    <tr>\n",
       "      <td>0</td>\n",
       "      <td>1</td>\n",
       "      <td>5th Ave.</td>\n",
       "      <td>Indiana</td>\n",
       "      <td>100</td>\n",
       "      <td>2020-07-01</td>\n",
       "    </tr>\n",
       "    <tr>\n",
       "      <td>1</td>\n",
       "      <td>2</td>\n",
       "      <td>Downing Street</td>\n",
       "      <td>San Francisco</td>\n",
       "      <td>200</td>\n",
       "      <td>2020-07-02</td>\n",
       "    </tr>\n",
       "    <tr>\n",
       "      <td>2</td>\n",
       "      <td>3</td>\n",
       "      <td>NaN</td>\n",
       "      <td>New York</td>\n",
       "      <td>300</td>\n",
       "      <td>2020-07-03</td>\n",
       "    </tr>\n",
       "    <tr>\n",
       "      <td>3</td>\n",
       "      <td>4</td>\n",
       "      <td>1600 Amphitheatre</td>\n",
       "      <td>New York</td>\n",
       "      <td>400</td>\n",
       "      <td>2020-07-04</td>\n",
       "    </tr>\n",
       "  </tbody>\n",
       "</table>\n",
       "</div>"
      ],
      "text/plain": [
       "   Id             Street           City  Salary       Date\n",
       "0   1          5th Ave.         Indiana     100 2020-07-01\n",
       "1   2    Downing Street   San Francisco     200 2020-07-02\n",
       "2   3                NaN       New York     300 2020-07-03\n",
       "3   4  1600 Amphitheatre       New York     400 2020-07-04"
      ]
     },
     "execution_count": 10,
     "metadata": {},
     "output_type": "execute_result"
    }
   ],
   "source": [
    "df"
   ]
  },
  {
   "cell_type": "code",
   "execution_count": 11,
   "metadata": {},
   "outputs": [
    {
     "data": {
      "text/plain": [
       "(1, '5th Ave. ', 'Indiana', 100, Timestamp('2020-07-01 00:00:00'))"
      ]
     },
     "execution_count": 11,
     "metadata": {},
     "output_type": "execute_result"
    }
   ],
   "source": [
    "df.loc[0,\"Id\"], df.loc[0,\"Street\"], df.loc[0,\"City\"], df.loc[0,\"Salary\"], df.loc[0,\"Date\"]"
   ]
  },
  {
   "cell_type": "code",
   "execution_count": 12,
   "metadata": {},
   "outputs": [],
   "source": [
    "stats_df = pd.concat([stats_df, pd.DataFrame(df_statistics(df, expected), index=[\"Skipinitialspace\"])])"
   ]
  },
  {
   "cell_type": "code",
   "execution_count": 13,
   "metadata": {},
   "outputs": [
    {
     "data": {
      "text/html": [
       "<div>\n",
       "<style scoped>\n",
       "    .dataframe tbody tr th:only-of-type {\n",
       "        vertical-align: middle;\n",
       "    }\n",
       "\n",
       "    .dataframe tbody tr th {\n",
       "        vertical-align: top;\n",
       "    }\n",
       "\n",
       "    .dataframe thead th {\n",
       "        text-align: right;\n",
       "    }\n",
       "</style>\n",
       "<table border=\"1\" class=\"dataframe\">\n",
       "  <thead>\n",
       "    <tr style=\"text-align: right;\">\n",
       "      <th></th>\n",
       "      <th>Id_lenght</th>\n",
       "      <th>Id_diff</th>\n",
       "      <th>Id_type</th>\n",
       "      <th>Street_lenght</th>\n",
       "      <th>Street_diff</th>\n",
       "      <th>Street_type</th>\n",
       "      <th>City_lenght</th>\n",
       "      <th>City_diff</th>\n",
       "      <th>City_type</th>\n",
       "      <th>Salary_lenght</th>\n",
       "      <th>Salary_diff</th>\n",
       "      <th>Salary_type</th>\n",
       "      <th>Date_lenght</th>\n",
       "      <th>Date_diff</th>\n",
       "      <th>Date_type</th>\n",
       "    </tr>\n",
       "  </thead>\n",
       "  <tbody>\n",
       "    <tr>\n",
       "      <td>Benchmark</td>\n",
       "      <td>10</td>\n",
       "      <td>0</td>\n",
       "      <td>int64</td>\n",
       "      <td>48.0</td>\n",
       "      <td>9.0</td>\n",
       "      <td>object</td>\n",
       "      <td>40</td>\n",
       "      <td>4</td>\n",
       "      <td>object</td>\n",
       "      <td>1000</td>\n",
       "      <td>0</td>\n",
       "      <td>int64</td>\n",
       "      <td>4</td>\n",
       "      <td>0</td>\n",
       "      <td>datetime64[ns]</td>\n",
       "    </tr>\n",
       "    <tr>\n",
       "      <td>Skipinitialspace</td>\n",
       "      <td>10</td>\n",
       "      <td>0</td>\n",
       "      <td>int64</td>\n",
       "      <td>41.0</td>\n",
       "      <td>2.0</td>\n",
       "      <td>object</td>\n",
       "      <td>36</td>\n",
       "      <td>0</td>\n",
       "      <td>object</td>\n",
       "      <td>1000</td>\n",
       "      <td>0</td>\n",
       "      <td>int64</td>\n",
       "      <td>4</td>\n",
       "      <td>0</td>\n",
       "      <td>datetime64[ns]</td>\n",
       "    </tr>\n",
       "  </tbody>\n",
       "</table>\n",
       "</div>"
      ],
      "text/plain": [
       "                  Id_lenght  Id_diff Id_type  Street_lenght  Street_diff  \\\n",
       "Benchmark                10        0   int64           48.0          9.0   \n",
       "Skipinitialspace         10        0   int64           41.0          2.0   \n",
       "\n",
       "                 Street_type  City_lenght  City_diff City_type  Salary_lenght  \\\n",
       "Benchmark             object           40          4    object           1000   \n",
       "Skipinitialspace      object           36          0    object           1000   \n",
       "\n",
       "                  Salary_diff Salary_type  Date_lenght  Date_diff  \\\n",
       "Benchmark                   0       int64            4          0   \n",
       "Skipinitialspace            0       int64            4          0   \n",
       "\n",
       "                       Date_type  \n",
       "Benchmark         datetime64[ns]  \n",
       "Skipinitialspace  datetime64[ns]  "
      ]
     },
     "execution_count": 13,
     "metadata": {},
     "output_type": "execute_result"
    }
   ],
   "source": [
    "stats_df"
   ]
  },
  {
   "cell_type": "markdown",
   "metadata": {},
   "source": [
    "Skipping initial space removed the white spaces from the begining of the Street, City and Date columns (the dates were not recognized as date field)"
   ]
  },
  {
   "cell_type": "markdown",
   "metadata": {},
   "source": [
    "## Using Regex Separator\n",
    "read_csv method allow a regex separator. In that case `engine=\"python\"` must be specified. It will then consider everything which match the regex to be the separator. "
   ]
  },
  {
   "cell_type": "code",
   "execution_count": 14,
   "metadata": {},
   "outputs": [],
   "source": [
    "df = pd.read_csv(io.StringIO(data), parse_dates=[\"Date\"], sep=\"\\s*[,]\\s*\", engine=\"python\")"
   ]
  },
  {
   "cell_type": "code",
   "execution_count": 15,
   "metadata": {},
   "outputs": [
    {
     "data": {
      "text/html": [
       "<div>\n",
       "<style scoped>\n",
       "    .dataframe tbody tr th:only-of-type {\n",
       "        vertical-align: middle;\n",
       "    }\n",
       "\n",
       "    .dataframe tbody tr th {\n",
       "        vertical-align: top;\n",
       "    }\n",
       "\n",
       "    .dataframe thead th {\n",
       "        text-align: right;\n",
       "    }\n",
       "</style>\n",
       "<table border=\"1\" class=\"dataframe\">\n",
       "  <thead>\n",
       "    <tr style=\"text-align: right;\">\n",
       "      <th></th>\n",
       "      <th>Id</th>\n",
       "      <th>Street</th>\n",
       "      <th>City</th>\n",
       "      <th>Salary</th>\n",
       "      <th>Date</th>\n",
       "    </tr>\n",
       "  </thead>\n",
       "  <tbody>\n",
       "    <tr>\n",
       "      <td>0</td>\n",
       "      <td>1</td>\n",
       "      <td>5th Ave.</td>\n",
       "      <td>Indiana</td>\n",
       "      <td>100</td>\n",
       "      <td>2020-07-01</td>\n",
       "    </tr>\n",
       "    <tr>\n",
       "      <td>1</td>\n",
       "      <td>2</td>\n",
       "      <td>Downing Street</td>\n",
       "      <td>San Francisco</td>\n",
       "      <td>200</td>\n",
       "      <td>2020-07-02</td>\n",
       "    </tr>\n",
       "    <tr>\n",
       "      <td>2</td>\n",
       "      <td>3</td>\n",
       "      <td>NaN</td>\n",
       "      <td>New York</td>\n",
       "      <td>300</td>\n",
       "      <td>2020-07-03</td>\n",
       "    </tr>\n",
       "    <tr>\n",
       "      <td>3</td>\n",
       "      <td>4</td>\n",
       "      <td>1600 Amphitheatre</td>\n",
       "      <td>New York</td>\n",
       "      <td>400</td>\n",
       "      <td>2020-07-04</td>\n",
       "    </tr>\n",
       "  </tbody>\n",
       "</table>\n",
       "</div>"
      ],
      "text/plain": [
       "   Id             Street           City  Salary       Date\n",
       "0   1           5th Ave.        Indiana     100 2020-07-01\n",
       "1   2     Downing Street  San Francisco     200 2020-07-02\n",
       "2   3                NaN       New York     300 2020-07-03\n",
       "3   4  1600 Amphitheatre       New York     400 2020-07-04"
      ]
     },
     "execution_count": 15,
     "metadata": {},
     "output_type": "execute_result"
    }
   ],
   "source": [
    "df"
   ]
  },
  {
   "cell_type": "code",
   "execution_count": 16,
   "metadata": {},
   "outputs": [
    {
     "data": {
      "text/plain": [
       "(1, '5th Ave.', 'Indiana', 100, Timestamp('2020-07-01 00:00:00'))"
      ]
     },
     "execution_count": 16,
     "metadata": {},
     "output_type": "execute_result"
    }
   ],
   "source": [
    "df.loc[0,\"Id\"], df.loc[0,\"Street\"], df.loc[0,\"City\"], df.loc[0,\"Salary\"], df.loc[0,\"Date\"]"
   ]
  },
  {
   "cell_type": "code",
   "execution_count": 17,
   "metadata": {},
   "outputs": [],
   "source": [
    "stats_df = pd.concat([stats_df, pd.DataFrame(df_statistics(df, expected), index=[\"Regex Separator\"])])"
   ]
  },
  {
   "cell_type": "code",
   "execution_count": 18,
   "metadata": {},
   "outputs": [
    {
     "data": {
      "text/html": [
       "<div>\n",
       "<style scoped>\n",
       "    .dataframe tbody tr th:only-of-type {\n",
       "        vertical-align: middle;\n",
       "    }\n",
       "\n",
       "    .dataframe tbody tr th {\n",
       "        vertical-align: top;\n",
       "    }\n",
       "\n",
       "    .dataframe thead th {\n",
       "        text-align: right;\n",
       "    }\n",
       "</style>\n",
       "<table border=\"1\" class=\"dataframe\">\n",
       "  <thead>\n",
       "    <tr style=\"text-align: right;\">\n",
       "      <th></th>\n",
       "      <th>Id_lenght</th>\n",
       "      <th>Id_diff</th>\n",
       "      <th>Id_type</th>\n",
       "      <th>Street_lenght</th>\n",
       "      <th>Street_diff</th>\n",
       "      <th>Street_type</th>\n",
       "      <th>City_lenght</th>\n",
       "      <th>City_diff</th>\n",
       "      <th>City_type</th>\n",
       "      <th>Salary_lenght</th>\n",
       "      <th>Salary_diff</th>\n",
       "      <th>Salary_type</th>\n",
       "      <th>Date_lenght</th>\n",
       "      <th>Date_diff</th>\n",
       "      <th>Date_type</th>\n",
       "    </tr>\n",
       "  </thead>\n",
       "  <tbody>\n",
       "    <tr>\n",
       "      <td>Benchmark</td>\n",
       "      <td>10</td>\n",
       "      <td>0</td>\n",
       "      <td>int64</td>\n",
       "      <td>48.0</td>\n",
       "      <td>9.0</td>\n",
       "      <td>object</td>\n",
       "      <td>40</td>\n",
       "      <td>4</td>\n",
       "      <td>object</td>\n",
       "      <td>1000</td>\n",
       "      <td>0</td>\n",
       "      <td>int64</td>\n",
       "      <td>4</td>\n",
       "      <td>0</td>\n",
       "      <td>datetime64[ns]</td>\n",
       "    </tr>\n",
       "    <tr>\n",
       "      <td>Skipinitialspace</td>\n",
       "      <td>10</td>\n",
       "      <td>0</td>\n",
       "      <td>int64</td>\n",
       "      <td>41.0</td>\n",
       "      <td>2.0</td>\n",
       "      <td>object</td>\n",
       "      <td>36</td>\n",
       "      <td>0</td>\n",
       "      <td>object</td>\n",
       "      <td>1000</td>\n",
       "      <td>0</td>\n",
       "      <td>int64</td>\n",
       "      <td>4</td>\n",
       "      <td>0</td>\n",
       "      <td>datetime64[ns]</td>\n",
       "    </tr>\n",
       "    <tr>\n",
       "      <td>Regex Separator</td>\n",
       "      <td>10</td>\n",
       "      <td>0</td>\n",
       "      <td>int64</td>\n",
       "      <td>39.0</td>\n",
       "      <td>0.0</td>\n",
       "      <td>object</td>\n",
       "      <td>36</td>\n",
       "      <td>0</td>\n",
       "      <td>object</td>\n",
       "      <td>1000</td>\n",
       "      <td>0</td>\n",
       "      <td>int64</td>\n",
       "      <td>4</td>\n",
       "      <td>0</td>\n",
       "      <td>datetime64[ns]</td>\n",
       "    </tr>\n",
       "  </tbody>\n",
       "</table>\n",
       "</div>"
      ],
      "text/plain": [
       "                  Id_lenght  Id_diff Id_type  Street_lenght  Street_diff  \\\n",
       "Benchmark                10        0   int64           48.0          9.0   \n",
       "Skipinitialspace         10        0   int64           41.0          2.0   \n",
       "Regex Separator          10        0   int64           39.0          0.0   \n",
       "\n",
       "                 Street_type  City_lenght  City_diff City_type  Salary_lenght  \\\n",
       "Benchmark             object           40          4    object           1000   \n",
       "Skipinitialspace      object           36          0    object           1000   \n",
       "Regex Separator       object           36          0    object           1000   \n",
       "\n",
       "                  Salary_diff Salary_type  Date_lenght  Date_diff  \\\n",
       "Benchmark                   0       int64            4          0   \n",
       "Skipinitialspace            0       int64            4          0   \n",
       "Regex Separator             0       int64            4          0   \n",
       "\n",
       "                       Date_type  \n",
       "Benchmark         datetime64[ns]  \n",
       "Skipinitialspace  datetime64[ns]  \n",
       "Regex Separator   datetime64[ns]  "
      ]
     },
     "execution_count": 18,
     "metadata": {},
     "output_type": "execute_result"
    }
   ],
   "source": [
    "stats_df"
   ]
  },
  {
   "cell_type": "markdown",
   "metadata": {},
   "source": [
    "The regex separator helped us to remove the trailing blank spaces at the end of some addresses, but ..."
   ]
  },
  {
   "cell_type": "markdown",
   "metadata": {},
   "source": [
    "regex separators have problems with quotes. So far we did not have any quotes, but image that any of the addresses contains a comma. Then we would have to encapsulate the addresses between the quotes and in that case regex separator would fail. \n",
    "\n",
    "Let's update the data by adding quotes around the addresses"
   ]
  },
  {
   "cell_type": "code",
   "execution_count": 19,
   "metadata": {},
   "outputs": [],
   "source": [
    "data = \"\"\"Id,Street,City,Salary,Date\n",
    "1,\" 5th Ave. \", Indiana, 100, 2020-07-01\n",
    "2,\" Downing Street \", San Francisco, 200, 2020-07-02\n",
    "3,\"  \", New York, 300, 2020-07-03\n",
    "4,\"   1600 Amphitheatre\", New York, 400, 2020-07-04\n",
    "\"\"\""
   ]
  },
  {
   "cell_type": "markdown",
   "metadata": {},
   "source": [
    "## Using the Regex separator with quotes"
   ]
  },
  {
   "cell_type": "code",
   "execution_count": 20,
   "metadata": {},
   "outputs": [],
   "source": [
    "df = pd.read_csv(io.StringIO(data), sep=\"\\s*[,]\\s*\", engine=\"python\", quotechar='\"', parse_dates=[\"Date\"])"
   ]
  },
  {
   "cell_type": "code",
   "execution_count": 21,
   "metadata": {},
   "outputs": [
    {
     "data": {
      "text/html": [
       "<div>\n",
       "<style scoped>\n",
       "    .dataframe tbody tr th:only-of-type {\n",
       "        vertical-align: middle;\n",
       "    }\n",
       "\n",
       "    .dataframe tbody tr th {\n",
       "        vertical-align: top;\n",
       "    }\n",
       "\n",
       "    .dataframe thead th {\n",
       "        text-align: right;\n",
       "    }\n",
       "</style>\n",
       "<table border=\"1\" class=\"dataframe\">\n",
       "  <thead>\n",
       "    <tr style=\"text-align: right;\">\n",
       "      <th></th>\n",
       "      <th>Id</th>\n",
       "      <th>Street</th>\n",
       "      <th>City</th>\n",
       "      <th>Salary</th>\n",
       "      <th>Date</th>\n",
       "    </tr>\n",
       "  </thead>\n",
       "  <tbody>\n",
       "    <tr>\n",
       "      <td>0</td>\n",
       "      <td>1</td>\n",
       "      <td>\" 5th Ave. \"</td>\n",
       "      <td>Indiana</td>\n",
       "      <td>100</td>\n",
       "      <td>2020-07-01</td>\n",
       "    </tr>\n",
       "    <tr>\n",
       "      <td>1</td>\n",
       "      <td>2</td>\n",
       "      <td>\" Downing Street \"</td>\n",
       "      <td>San Francisco</td>\n",
       "      <td>200</td>\n",
       "      <td>2020-07-02</td>\n",
       "    </tr>\n",
       "    <tr>\n",
       "      <td>2</td>\n",
       "      <td>3</td>\n",
       "      <td>\"  \"</td>\n",
       "      <td>New York</td>\n",
       "      <td>300</td>\n",
       "      <td>2020-07-03</td>\n",
       "    </tr>\n",
       "    <tr>\n",
       "      <td>3</td>\n",
       "      <td>4</td>\n",
       "      <td>\"   1600 Amphitheatre\"</td>\n",
       "      <td>New York</td>\n",
       "      <td>400</td>\n",
       "      <td>2020-07-04</td>\n",
       "    </tr>\n",
       "  </tbody>\n",
       "</table>\n",
       "</div>"
      ],
      "text/plain": [
       "   Id                  Street           City  Salary       Date\n",
       "0   1            \" 5th Ave. \"        Indiana     100 2020-07-01\n",
       "1   2      \" Downing Street \"  San Francisco     200 2020-07-02\n",
       "2   3                    \"  \"       New York     300 2020-07-03\n",
       "3   4  \"   1600 Amphitheatre\"       New York     400 2020-07-04"
      ]
     },
     "execution_count": 21,
     "metadata": {},
     "output_type": "execute_result"
    }
   ],
   "source": [
    "df"
   ]
  },
  {
   "cell_type": "code",
   "execution_count": 22,
   "metadata": {},
   "outputs": [],
   "source": [
    "stats_df = pd.concat([stats_df, pd.DataFrame(df_statistics(df, expected), index=[\"Regex Separator with quotes\"])])"
   ]
  },
  {
   "cell_type": "code",
   "execution_count": 23,
   "metadata": {},
   "outputs": [
    {
     "data": {
      "text/html": [
       "<div>\n",
       "<style scoped>\n",
       "    .dataframe tbody tr th:only-of-type {\n",
       "        vertical-align: middle;\n",
       "    }\n",
       "\n",
       "    .dataframe tbody tr th {\n",
       "        vertical-align: top;\n",
       "    }\n",
       "\n",
       "    .dataframe thead th {\n",
       "        text-align: right;\n",
       "    }\n",
       "</style>\n",
       "<table border=\"1\" class=\"dataframe\">\n",
       "  <thead>\n",
       "    <tr style=\"text-align: right;\">\n",
       "      <th></th>\n",
       "      <th>Id_lenght</th>\n",
       "      <th>Id_diff</th>\n",
       "      <th>Id_type</th>\n",
       "      <th>Street_lenght</th>\n",
       "      <th>Street_diff</th>\n",
       "      <th>Street_type</th>\n",
       "      <th>City_lenght</th>\n",
       "      <th>City_diff</th>\n",
       "      <th>City_type</th>\n",
       "      <th>Salary_lenght</th>\n",
       "      <th>Salary_diff</th>\n",
       "      <th>Salary_type</th>\n",
       "      <th>Date_lenght</th>\n",
       "      <th>Date_diff</th>\n",
       "      <th>Date_type</th>\n",
       "    </tr>\n",
       "  </thead>\n",
       "  <tbody>\n",
       "    <tr>\n",
       "      <td>Benchmark</td>\n",
       "      <td>10</td>\n",
       "      <td>0</td>\n",
       "      <td>int64</td>\n",
       "      <td>48.0</td>\n",
       "      <td>9.0</td>\n",
       "      <td>object</td>\n",
       "      <td>40</td>\n",
       "      <td>4</td>\n",
       "      <td>object</td>\n",
       "      <td>1000</td>\n",
       "      <td>0</td>\n",
       "      <td>int64</td>\n",
       "      <td>4</td>\n",
       "      <td>0</td>\n",
       "      <td>datetime64[ns]</td>\n",
       "    </tr>\n",
       "    <tr>\n",
       "      <td>Skipinitialspace</td>\n",
       "      <td>10</td>\n",
       "      <td>0</td>\n",
       "      <td>int64</td>\n",
       "      <td>41.0</td>\n",
       "      <td>2.0</td>\n",
       "      <td>object</td>\n",
       "      <td>36</td>\n",
       "      <td>0</td>\n",
       "      <td>object</td>\n",
       "      <td>1000</td>\n",
       "      <td>0</td>\n",
       "      <td>int64</td>\n",
       "      <td>4</td>\n",
       "      <td>0</td>\n",
       "      <td>datetime64[ns]</td>\n",
       "    </tr>\n",
       "    <tr>\n",
       "      <td>Regex Separator</td>\n",
       "      <td>10</td>\n",
       "      <td>0</td>\n",
       "      <td>int64</td>\n",
       "      <td>39.0</td>\n",
       "      <td>0.0</td>\n",
       "      <td>object</td>\n",
       "      <td>36</td>\n",
       "      <td>0</td>\n",
       "      <td>object</td>\n",
       "      <td>1000</td>\n",
       "      <td>0</td>\n",
       "      <td>int64</td>\n",
       "      <td>4</td>\n",
       "      <td>0</td>\n",
       "      <td>datetime64[ns]</td>\n",
       "    </tr>\n",
       "    <tr>\n",
       "      <td>Regex Separator with quotes</td>\n",
       "      <td>10</td>\n",
       "      <td>0</td>\n",
       "      <td>int64</td>\n",
       "      <td>56.0</td>\n",
       "      <td>17.0</td>\n",
       "      <td>object</td>\n",
       "      <td>36</td>\n",
       "      <td>0</td>\n",
       "      <td>object</td>\n",
       "      <td>1000</td>\n",
       "      <td>0</td>\n",
       "      <td>int64</td>\n",
       "      <td>4</td>\n",
       "      <td>0</td>\n",
       "      <td>datetime64[ns]</td>\n",
       "    </tr>\n",
       "  </tbody>\n",
       "</table>\n",
       "</div>"
      ],
      "text/plain": [
       "                             Id_lenght  Id_diff Id_type  Street_lenght  \\\n",
       "Benchmark                           10        0   int64           48.0   \n",
       "Skipinitialspace                    10        0   int64           41.0   \n",
       "Regex Separator                     10        0   int64           39.0   \n",
       "Regex Separator with quotes         10        0   int64           56.0   \n",
       "\n",
       "                             Street_diff Street_type  City_lenght  City_diff  \\\n",
       "Benchmark                            9.0      object           40          4   \n",
       "Skipinitialspace                     2.0      object           36          0   \n",
       "Regex Separator                      0.0      object           36          0   \n",
       "Regex Separator with quotes         17.0      object           36          0   \n",
       "\n",
       "                            City_type  Salary_lenght  Salary_diff Salary_type  \\\n",
       "Benchmark                      object           1000            0       int64   \n",
       "Skipinitialspace               object           1000            0       int64   \n",
       "Regex Separator                object           1000            0       int64   \n",
       "Regex Separator with quotes    object           1000            0       int64   \n",
       "\n",
       "                             Date_lenght  Date_diff       Date_type  \n",
       "Benchmark                              4          0  datetime64[ns]  \n",
       "Skipinitialspace                       4          0  datetime64[ns]  \n",
       "Regex Separator                        4          0  datetime64[ns]  \n",
       "Regex Separator with quotes            4          0  datetime64[ns]  "
      ]
     },
     "execution_count": 23,
     "metadata": {},
     "output_type": "execute_result"
    }
   ],
   "source": [
    "stats_df"
   ]
  },
  {
   "cell_type": "markdown",
   "metadata": {},
   "source": [
    "Now, not only that the white spaces inside the quotes were not touched, but also the quotes were ingnored, which made the total lenght of the streets even longer (48 chars with spaces + 8 chars of the quotes). "
   ]
  },
  {
   "cell_type": "markdown",
   "metadata": {},
   "source": [
    "The biggest problem if the quotes are ignored is that some fields, and the Address is a gread example can contain the delimiter - comma in our case. Let's say that the second line would be \" Downing Street, London \" and in that case:\t"
   ]
  },
  {
   "cell_type": "code",
   "execution_count": 24,
   "metadata": {},
   "outputs": [],
   "source": [
    "data_special = \"\"\"Id,Street,City,Salary,Date\n",
    "1,\" 5th Ave. \", Indiana, 100, 2020-07-01\n",
    "2,\" Downing Street, London \", San Francisco, 200, 2020-07-02\n",
    "3,\"  \", New York, 300, 2020-07-03\n",
    "4,\"   1600 Amphitheatre\", New York, 400, 2020-07-04\n",
    "\"\"\""
   ]
  },
  {
   "cell_type": "code",
   "execution_count": 25,
   "metadata": {},
   "outputs": [
    {
     "name": "stdout",
     "output_type": "stream",
     "text": [
      "Expected 5 fields in line 3, saw 6. Error could possibly be due to quotes being ignored when a multi-char delimiter is used.\n"
     ]
    }
   ],
   "source": [
    "try:\n",
    "    df = pd.read_csv(io.StringIO(data_special), sep=\"\\s*[,]\\s*\", engine=\"python\", quotechar='\"', parse_dates=[\"Date\"])\n",
    "except Exception as e:\n",
    "    print(e)"
   ]
  },
  {
   "cell_type": "markdown",
   "metadata": {},
   "source": [
    "In that case, the regex separator would fail, because the second row of data, if the quotes are ignored contains an extra delimiter"
   ]
  },
  {
   "cell_type": "markdown",
   "metadata": {},
   "source": [
    "## Applying regex afterward\n",
    "Because the regex seperator has the significant flaw of ignoring the quotes, let's try another approach. We can use the regexes to strip the blank spaces after the data are loaded to the dataframe through regular `read_csv()`. In the end, after all the blank spaces are removed, we turn the `\"\"` into NaN. The importance why we turn \"\",\" \",\"  \", ... into NaN will be explained in the next chapter"
   ]
  },
  {
   "cell_type": "code",
   "execution_count": 26,
   "metadata": {},
   "outputs": [],
   "source": [
    "def read_csv_regex(data, date_columns=[]):\n",
    "    df = pd.read_csv(data, quotechar='\"', parse_dates=date_columns)\n",
    "    # remove front and ending blank spaces\n",
    "    df = df.replace({\"^\\s*|\\s*$\":\"\"}, regex=True) \n",
    "    \n",
    "    # if there remained only empty string \"\", change to Nan\n",
    "    df = df.replace({\"\":np.nan}) \n",
    "    return df"
   ]
  },
  {
   "cell_type": "code",
   "execution_count": 27,
   "metadata": {},
   "outputs": [],
   "source": [
    "df = read_csv_regex(io.StringIO(data), date_columns=[\"Date\"])"
   ]
  },
  {
   "cell_type": "code",
   "execution_count": 28,
   "metadata": {},
   "outputs": [
    {
     "data": {
      "text/plain": [
       "(1, '5th Ave.', 'Indiana', 100, Timestamp('2020-07-01 00:00:00'))"
      ]
     },
     "execution_count": 28,
     "metadata": {},
     "output_type": "execute_result"
    }
   ],
   "source": [
    "df.loc[0,\"Id\"], df.loc[0,\"Street\"], df.loc[0,\"City\"], df.loc[0,\"Salary\"], df.loc[0,\"Date\"]"
   ]
  },
  {
   "cell_type": "code",
   "execution_count": 29,
   "metadata": {},
   "outputs": [],
   "source": [
    "stats_df = pd.concat([stats_df, pd.DataFrame(df_statistics(df, expected), index=[\"Load and apply regex\"])])"
   ]
  },
  {
   "cell_type": "code",
   "execution_count": 30,
   "metadata": {},
   "outputs": [
    {
     "data": {
      "text/html": [
       "<div>\n",
       "<style scoped>\n",
       "    .dataframe tbody tr th:only-of-type {\n",
       "        vertical-align: middle;\n",
       "    }\n",
       "\n",
       "    .dataframe tbody tr th {\n",
       "        vertical-align: top;\n",
       "    }\n",
       "\n",
       "    .dataframe thead th {\n",
       "        text-align: right;\n",
       "    }\n",
       "</style>\n",
       "<table border=\"1\" class=\"dataframe\">\n",
       "  <thead>\n",
       "    <tr style=\"text-align: right;\">\n",
       "      <th></th>\n",
       "      <th>Id_lenght</th>\n",
       "      <th>Id_diff</th>\n",
       "      <th>Id_type</th>\n",
       "      <th>Street_lenght</th>\n",
       "      <th>Street_diff</th>\n",
       "      <th>Street_type</th>\n",
       "      <th>City_lenght</th>\n",
       "      <th>City_diff</th>\n",
       "      <th>City_type</th>\n",
       "      <th>Salary_lenght</th>\n",
       "      <th>Salary_diff</th>\n",
       "      <th>Salary_type</th>\n",
       "      <th>Date_lenght</th>\n",
       "      <th>Date_diff</th>\n",
       "      <th>Date_type</th>\n",
       "    </tr>\n",
       "  </thead>\n",
       "  <tbody>\n",
       "    <tr>\n",
       "      <td>Benchmark</td>\n",
       "      <td>10</td>\n",
       "      <td>0</td>\n",
       "      <td>int64</td>\n",
       "      <td>48.0</td>\n",
       "      <td>9.0</td>\n",
       "      <td>object</td>\n",
       "      <td>40</td>\n",
       "      <td>4</td>\n",
       "      <td>object</td>\n",
       "      <td>1000</td>\n",
       "      <td>0</td>\n",
       "      <td>int64</td>\n",
       "      <td>4</td>\n",
       "      <td>0</td>\n",
       "      <td>datetime64[ns]</td>\n",
       "    </tr>\n",
       "    <tr>\n",
       "      <td>Skipinitialspace</td>\n",
       "      <td>10</td>\n",
       "      <td>0</td>\n",
       "      <td>int64</td>\n",
       "      <td>41.0</td>\n",
       "      <td>2.0</td>\n",
       "      <td>object</td>\n",
       "      <td>36</td>\n",
       "      <td>0</td>\n",
       "      <td>object</td>\n",
       "      <td>1000</td>\n",
       "      <td>0</td>\n",
       "      <td>int64</td>\n",
       "      <td>4</td>\n",
       "      <td>0</td>\n",
       "      <td>datetime64[ns]</td>\n",
       "    </tr>\n",
       "    <tr>\n",
       "      <td>Regex Separator</td>\n",
       "      <td>10</td>\n",
       "      <td>0</td>\n",
       "      <td>int64</td>\n",
       "      <td>39.0</td>\n",
       "      <td>0.0</td>\n",
       "      <td>object</td>\n",
       "      <td>36</td>\n",
       "      <td>0</td>\n",
       "      <td>object</td>\n",
       "      <td>1000</td>\n",
       "      <td>0</td>\n",
       "      <td>int64</td>\n",
       "      <td>4</td>\n",
       "      <td>0</td>\n",
       "      <td>datetime64[ns]</td>\n",
       "    </tr>\n",
       "    <tr>\n",
       "      <td>Regex Separator with quotes</td>\n",
       "      <td>10</td>\n",
       "      <td>0</td>\n",
       "      <td>int64</td>\n",
       "      <td>56.0</td>\n",
       "      <td>17.0</td>\n",
       "      <td>object</td>\n",
       "      <td>36</td>\n",
       "      <td>0</td>\n",
       "      <td>object</td>\n",
       "      <td>1000</td>\n",
       "      <td>0</td>\n",
       "      <td>int64</td>\n",
       "      <td>4</td>\n",
       "      <td>0</td>\n",
       "      <td>datetime64[ns]</td>\n",
       "    </tr>\n",
       "    <tr>\n",
       "      <td>Load and apply regex</td>\n",
       "      <td>10</td>\n",
       "      <td>0</td>\n",
       "      <td>int64</td>\n",
       "      <td>39.0</td>\n",
       "      <td>0.0</td>\n",
       "      <td>object</td>\n",
       "      <td>36</td>\n",
       "      <td>0</td>\n",
       "      <td>object</td>\n",
       "      <td>1000</td>\n",
       "      <td>0</td>\n",
       "      <td>int64</td>\n",
       "      <td>4</td>\n",
       "      <td>0</td>\n",
       "      <td>datetime64[ns]</td>\n",
       "    </tr>\n",
       "  </tbody>\n",
       "</table>\n",
       "</div>"
      ],
      "text/plain": [
       "                             Id_lenght  Id_diff Id_type  Street_lenght  \\\n",
       "Benchmark                           10        0   int64           48.0   \n",
       "Skipinitialspace                    10        0   int64           41.0   \n",
       "Regex Separator                     10        0   int64           39.0   \n",
       "Regex Separator with quotes         10        0   int64           56.0   \n",
       "Load and apply regex                10        0   int64           39.0   \n",
       "\n",
       "                             Street_diff Street_type  City_lenght  City_diff  \\\n",
       "Benchmark                            9.0      object           40          4   \n",
       "Skipinitialspace                     2.0      object           36          0   \n",
       "Regex Separator                      0.0      object           36          0   \n",
       "Regex Separator with quotes         17.0      object           36          0   \n",
       "Load and apply regex                 0.0      object           36          0   \n",
       "\n",
       "                            City_type  Salary_lenght  Salary_diff Salary_type  \\\n",
       "Benchmark                      object           1000            0       int64   \n",
       "Skipinitialspace               object           1000            0       int64   \n",
       "Regex Separator                object           1000            0       int64   \n",
       "Regex Separator with quotes    object           1000            0       int64   \n",
       "Load and apply regex           object           1000            0       int64   \n",
       "\n",
       "                             Date_lenght  Date_diff       Date_type  \n",
       "Benchmark                              4          0  datetime64[ns]  \n",
       "Skipinitialspace                       4          0  datetime64[ns]  \n",
       "Regex Separator                        4          0  datetime64[ns]  \n",
       "Regex Separator with quotes            4          0  datetime64[ns]  \n",
       "Load and apply regex                   4          0  datetime64[ns]  "
      ]
     },
     "execution_count": 30,
     "metadata": {},
     "output_type": "execute_result"
    }
   ],
   "source": [
    "stats_df"
   ]
  },
  {
   "cell_type": "markdown",
   "metadata": {},
   "source": [
    "The post applied regex has the same length of all the columns as Regex separator, but it doesn't ingnore the quotes."
   ]
  },
  {
   "cell_type": "markdown",
   "metadata": {},
   "source": [
    "## String strip\n",
    "Regular expressions are one option how to eliminate the white spaces, but python have other method to deal with them `.strip()`. It removes the leading and trailing spaces, which is what we desire. \n",
    "\n",
    "Because later we're going to measure the performance, let's create a function to handle this."
   ]
  },
  {
   "cell_type": "code",
   "execution_count": 31,
   "metadata": {},
   "outputs": [],
   "source": [
    "def read_csv_strip(data, date_columns=[]):\n",
    "    df = pd.read_csv(data, quotechar='\"', parse_dates=date_columns)\n",
    "    \n",
    "    # for each column\n",
    "    for col in df.columns:\n",
    "        # check if the columns contains string data\n",
    "        if pd.api.types.is_string_dtype(df[col]):\n",
    "            df[col] = df[col].str.strip()\n",
    "    df = df.replace({\"\":np.nan}) # if there remained only empty string \"\", change to Nan\n",
    "    return df"
   ]
  },
  {
   "cell_type": "code",
   "execution_count": null,
   "metadata": {},
   "outputs": [],
   "source": []
  },
  {
   "cell_type": "code",
   "execution_count": 32,
   "metadata": {},
   "outputs": [],
   "source": [
    "df = read_csv_strip(io.StringIO(data), date_columns=[\"Date\"] )"
   ]
  },
  {
   "cell_type": "code",
   "execution_count": 33,
   "metadata": {},
   "outputs": [
    {
     "data": {
      "text/plain": [
       "(1, '5th Ave.', 'Indiana', 100, Timestamp('2020-07-01 00:00:00'))"
      ]
     },
     "execution_count": 33,
     "metadata": {},
     "output_type": "execute_result"
    }
   ],
   "source": [
    "df.loc[0,\"Id\"], df.loc[0,\"Street\"], df.loc[0,\"City\"], df.loc[0,\"Salary\"], df.loc[0,\"Date\"]"
   ]
  },
  {
   "cell_type": "code",
   "execution_count": 34,
   "metadata": {},
   "outputs": [],
   "source": [
    "stats_df = pd.concat([stats_df, pd.DataFrame(df_statistics(df, expected), index=[\"Strip blank spaces\"])])"
   ]
  },
  {
   "cell_type": "code",
   "execution_count": 35,
   "metadata": {},
   "outputs": [
    {
     "data": {
      "text/html": [
       "<div>\n",
       "<style scoped>\n",
       "    .dataframe tbody tr th:only-of-type {\n",
       "        vertical-align: middle;\n",
       "    }\n",
       "\n",
       "    .dataframe tbody tr th {\n",
       "        vertical-align: top;\n",
       "    }\n",
       "\n",
       "    .dataframe thead th {\n",
       "        text-align: right;\n",
       "    }\n",
       "</style>\n",
       "<table border=\"1\" class=\"dataframe\">\n",
       "  <thead>\n",
       "    <tr style=\"text-align: right;\">\n",
       "      <th></th>\n",
       "      <th>Id_lenght</th>\n",
       "      <th>Id_diff</th>\n",
       "      <th>Id_type</th>\n",
       "      <th>Street_lenght</th>\n",
       "      <th>Street_diff</th>\n",
       "      <th>Street_type</th>\n",
       "      <th>City_lenght</th>\n",
       "      <th>City_diff</th>\n",
       "      <th>City_type</th>\n",
       "      <th>Salary_lenght</th>\n",
       "      <th>Salary_diff</th>\n",
       "      <th>Salary_type</th>\n",
       "      <th>Date_lenght</th>\n",
       "      <th>Date_diff</th>\n",
       "      <th>Date_type</th>\n",
       "    </tr>\n",
       "  </thead>\n",
       "  <tbody>\n",
       "    <tr>\n",
       "      <td>Benchmark</td>\n",
       "      <td>10</td>\n",
       "      <td>0</td>\n",
       "      <td>int64</td>\n",
       "      <td>48.0</td>\n",
       "      <td>9.0</td>\n",
       "      <td>object</td>\n",
       "      <td>40</td>\n",
       "      <td>4</td>\n",
       "      <td>object</td>\n",
       "      <td>1000</td>\n",
       "      <td>0</td>\n",
       "      <td>int64</td>\n",
       "      <td>4</td>\n",
       "      <td>0</td>\n",
       "      <td>datetime64[ns]</td>\n",
       "    </tr>\n",
       "    <tr>\n",
       "      <td>Skipinitialspace</td>\n",
       "      <td>10</td>\n",
       "      <td>0</td>\n",
       "      <td>int64</td>\n",
       "      <td>41.0</td>\n",
       "      <td>2.0</td>\n",
       "      <td>object</td>\n",
       "      <td>36</td>\n",
       "      <td>0</td>\n",
       "      <td>object</td>\n",
       "      <td>1000</td>\n",
       "      <td>0</td>\n",
       "      <td>int64</td>\n",
       "      <td>4</td>\n",
       "      <td>0</td>\n",
       "      <td>datetime64[ns]</td>\n",
       "    </tr>\n",
       "    <tr>\n",
       "      <td>Regex Separator</td>\n",
       "      <td>10</td>\n",
       "      <td>0</td>\n",
       "      <td>int64</td>\n",
       "      <td>39.0</td>\n",
       "      <td>0.0</td>\n",
       "      <td>object</td>\n",
       "      <td>36</td>\n",
       "      <td>0</td>\n",
       "      <td>object</td>\n",
       "      <td>1000</td>\n",
       "      <td>0</td>\n",
       "      <td>int64</td>\n",
       "      <td>4</td>\n",
       "      <td>0</td>\n",
       "      <td>datetime64[ns]</td>\n",
       "    </tr>\n",
       "    <tr>\n",
       "      <td>Regex Separator with quotes</td>\n",
       "      <td>10</td>\n",
       "      <td>0</td>\n",
       "      <td>int64</td>\n",
       "      <td>56.0</td>\n",
       "      <td>17.0</td>\n",
       "      <td>object</td>\n",
       "      <td>36</td>\n",
       "      <td>0</td>\n",
       "      <td>object</td>\n",
       "      <td>1000</td>\n",
       "      <td>0</td>\n",
       "      <td>int64</td>\n",
       "      <td>4</td>\n",
       "      <td>0</td>\n",
       "      <td>datetime64[ns]</td>\n",
       "    </tr>\n",
       "    <tr>\n",
       "      <td>Load and apply regex</td>\n",
       "      <td>10</td>\n",
       "      <td>0</td>\n",
       "      <td>int64</td>\n",
       "      <td>39.0</td>\n",
       "      <td>0.0</td>\n",
       "      <td>object</td>\n",
       "      <td>36</td>\n",
       "      <td>0</td>\n",
       "      <td>object</td>\n",
       "      <td>1000</td>\n",
       "      <td>0</td>\n",
       "      <td>int64</td>\n",
       "      <td>4</td>\n",
       "      <td>0</td>\n",
       "      <td>datetime64[ns]</td>\n",
       "    </tr>\n",
       "    <tr>\n",
       "      <td>Strip blank spaces</td>\n",
       "      <td>10</td>\n",
       "      <td>0</td>\n",
       "      <td>int64</td>\n",
       "      <td>39.0</td>\n",
       "      <td>0.0</td>\n",
       "      <td>object</td>\n",
       "      <td>36</td>\n",
       "      <td>0</td>\n",
       "      <td>object</td>\n",
       "      <td>1000</td>\n",
       "      <td>0</td>\n",
       "      <td>int64</td>\n",
       "      <td>4</td>\n",
       "      <td>0</td>\n",
       "      <td>datetime64[ns]</td>\n",
       "    </tr>\n",
       "  </tbody>\n",
       "</table>\n",
       "</div>"
      ],
      "text/plain": [
       "                             Id_lenght  Id_diff Id_type  Street_lenght  \\\n",
       "Benchmark                           10        0   int64           48.0   \n",
       "Skipinitialspace                    10        0   int64           41.0   \n",
       "Regex Separator                     10        0   int64           39.0   \n",
       "Regex Separator with quotes         10        0   int64           56.0   \n",
       "Load and apply regex                10        0   int64           39.0   \n",
       "Strip blank spaces                  10        0   int64           39.0   \n",
       "\n",
       "                             Street_diff Street_type  City_lenght  City_diff  \\\n",
       "Benchmark                            9.0      object           40          4   \n",
       "Skipinitialspace                     2.0      object           36          0   \n",
       "Regex Separator                      0.0      object           36          0   \n",
       "Regex Separator with quotes         17.0      object           36          0   \n",
       "Load and apply regex                 0.0      object           36          0   \n",
       "Strip blank spaces                   0.0      object           36          0   \n",
       "\n",
       "                            City_type  Salary_lenght  Salary_diff Salary_type  \\\n",
       "Benchmark                      object           1000            0       int64   \n",
       "Skipinitialspace               object           1000            0       int64   \n",
       "Regex Separator                object           1000            0       int64   \n",
       "Regex Separator with quotes    object           1000            0       int64   \n",
       "Load and apply regex           object           1000            0       int64   \n",
       "Strip blank spaces             object           1000            0       int64   \n",
       "\n",
       "                             Date_lenght  Date_diff       Date_type  \n",
       "Benchmark                              4          0  datetime64[ns]  \n",
       "Skipinitialspace                       4          0  datetime64[ns]  \n",
       "Regex Separator                        4          0  datetime64[ns]  \n",
       "Regex Separator with quotes            4          0  datetime64[ns]  \n",
       "Load and apply regex                   4          0  datetime64[ns]  \n",
       "Strip blank spaces                     4          0  datetime64[ns]  "
      ]
     },
     "execution_count": 35,
     "metadata": {},
     "output_type": "execute_result"
    }
   ],
   "source": [
    "stats_df"
   ]
  },
  {
   "cell_type": "markdown",
   "metadata": {},
   "source": [
    "## NaN values\n",
    "Before we move to review the performance of each of the approaches, we have to talk about the N/A values. According to the pandas documentation, during the read_csv the following characters are interpreted as **NaN**: ‘’, ‘#N/A’, ‘#N/A N/A’, ‘#NA’, ‘-1.#IND’, ‘-1.#QNAN’, ‘-NaN’, ‘-nan’, ‘1.#IND’, ‘1.#QNAN’, ‘<NA>’, ‘N/A’, ‘NA’, ‘NULL’, ‘NaN’, ‘n/a’, ‘nan’, ‘null’. Unless we switch it off by setting `keep_default_na` to False, only empty string will be considered as NaN. That mean that `' '` one blank space, `'  '` two blank spaces and any number of blank spaces is not considered as N/A.\n",
    "    \n",
    "Why would we even care whether the value is a blank space or an NaN? Because both behave differenty. For example count(Nan) = 0, while count(' ') = 1. You can apply `.fillna()` or `.dropna()` on NaN values, but string are resistant to it. \n",
    "\n",
    "So, if any number of the blank spaces mean that value is missing and you prefer to turn it into NaN, you can either:\n",
    "* add extra value to turn into NaN using `na_values=` parameter; that is a bit inpractical, because you will have to add `na_values=[\" \",\"  \",\"   \",...]`\n",
    "* first remove the blank spaces and then apply `df.replace({\"\":np.nan})` \n",
    "\n",
    "You have probably noticed that we have used the second approach in the `\"Strip blank spaces\"`, `\"Load and apply regex\"` approach which resulted that \"  \" turned into NaN."
   ]
  },
  {
   "cell_type": "code",
   "execution_count": 36,
   "metadata": {},
   "outputs": [
    {
     "data": {
      "text/html": [
       "<style  type=\"text/css\" >\n",
       "    #T_63c88e6e_c44f_11ea_a41e_50e08598ebb6row2_col1 {\n",
       "            color:  red;\n",
       "        }</style><table id=\"T_63c88e6e_c44f_11ea_a41e_50e08598ebb6\" ><thead>    <tr>        <th class=\"blank level0\" ></th>        <th class=\"col_heading level0 col0\" >Id</th>        <th class=\"col_heading level0 col1\" >Street</th>        <th class=\"col_heading level0 col2\" >City</th>        <th class=\"col_heading level0 col3\" >Salary</th>        <th class=\"col_heading level0 col4\" >Date</th>    </tr></thead><tbody>\n",
       "                <tr>\n",
       "                        <th id=\"T_63c88e6e_c44f_11ea_a41e_50e08598ebb6level0_row0\" class=\"row_heading level0 row0\" >0</th>\n",
       "                        <td id=\"T_63c88e6e_c44f_11ea_a41e_50e08598ebb6row0_col0\" class=\"data row0 col0\" >1</td>\n",
       "                        <td id=\"T_63c88e6e_c44f_11ea_a41e_50e08598ebb6row0_col1\" class=\"data row0 col1\" >5th Ave.</td>\n",
       "                        <td id=\"T_63c88e6e_c44f_11ea_a41e_50e08598ebb6row0_col2\" class=\"data row0 col2\" >Indiana</td>\n",
       "                        <td id=\"T_63c88e6e_c44f_11ea_a41e_50e08598ebb6row0_col3\" class=\"data row0 col3\" >100</td>\n",
       "                        <td id=\"T_63c88e6e_c44f_11ea_a41e_50e08598ebb6row0_col4\" class=\"data row0 col4\" >2020-07-01 00:00:00</td>\n",
       "            </tr>\n",
       "            <tr>\n",
       "                        <th id=\"T_63c88e6e_c44f_11ea_a41e_50e08598ebb6level0_row1\" class=\"row_heading level0 row1\" >1</th>\n",
       "                        <td id=\"T_63c88e6e_c44f_11ea_a41e_50e08598ebb6row1_col0\" class=\"data row1 col0\" >2</td>\n",
       "                        <td id=\"T_63c88e6e_c44f_11ea_a41e_50e08598ebb6row1_col1\" class=\"data row1 col1\" >Downing Street</td>\n",
       "                        <td id=\"T_63c88e6e_c44f_11ea_a41e_50e08598ebb6row1_col2\" class=\"data row1 col2\" >San Francisco</td>\n",
       "                        <td id=\"T_63c88e6e_c44f_11ea_a41e_50e08598ebb6row1_col3\" class=\"data row1 col3\" >200</td>\n",
       "                        <td id=\"T_63c88e6e_c44f_11ea_a41e_50e08598ebb6row1_col4\" class=\"data row1 col4\" >2020-07-02 00:00:00</td>\n",
       "            </tr>\n",
       "            <tr>\n",
       "                        <th id=\"T_63c88e6e_c44f_11ea_a41e_50e08598ebb6level0_row2\" class=\"row_heading level0 row2\" >2</th>\n",
       "                        <td id=\"T_63c88e6e_c44f_11ea_a41e_50e08598ebb6row2_col0\" class=\"data row2 col0\" >3</td>\n",
       "                        <td id=\"T_63c88e6e_c44f_11ea_a41e_50e08598ebb6row2_col1\" class=\"data row2 col1\" >nan</td>\n",
       "                        <td id=\"T_63c88e6e_c44f_11ea_a41e_50e08598ebb6row2_col2\" class=\"data row2 col2\" >New York</td>\n",
       "                        <td id=\"T_63c88e6e_c44f_11ea_a41e_50e08598ebb6row2_col3\" class=\"data row2 col3\" >300</td>\n",
       "                        <td id=\"T_63c88e6e_c44f_11ea_a41e_50e08598ebb6row2_col4\" class=\"data row2 col4\" >2020-07-03 00:00:00</td>\n",
       "            </tr>\n",
       "            <tr>\n",
       "                        <th id=\"T_63c88e6e_c44f_11ea_a41e_50e08598ebb6level0_row3\" class=\"row_heading level0 row3\" >3</th>\n",
       "                        <td id=\"T_63c88e6e_c44f_11ea_a41e_50e08598ebb6row3_col0\" class=\"data row3 col0\" >4</td>\n",
       "                        <td id=\"T_63c88e6e_c44f_11ea_a41e_50e08598ebb6row3_col1\" class=\"data row3 col1\" >1600 Amphitheatre</td>\n",
       "                        <td id=\"T_63c88e6e_c44f_11ea_a41e_50e08598ebb6row3_col2\" class=\"data row3 col2\" >New York</td>\n",
       "                        <td id=\"T_63c88e6e_c44f_11ea_a41e_50e08598ebb6row3_col3\" class=\"data row3 col3\" >400</td>\n",
       "                        <td id=\"T_63c88e6e_c44f_11ea_a41e_50e08598ebb6row3_col4\" class=\"data row3 col4\" >2020-07-04 00:00:00</td>\n",
       "            </tr>\n",
       "    </tbody></table>"
      ],
      "text/plain": [
       "<pandas.io.formats.style.Styler at 0x17e0c4a0888>"
      ]
     },
     "execution_count": 36,
     "metadata": {},
     "output_type": "execute_result"
    }
   ],
   "source": [
    "df.style.applymap(lambda x: 'color: red' if pd.isnull(x) else '')"
   ]
  },
  {
   "cell_type": "markdown",
   "metadata": {},
   "source": [
    "## Generate test data - 1M rows"
   ]
  },
  {
   "cell_type": "code",
   "execution_count": 37,
   "metadata": {},
   "outputs": [],
   "source": [
    "import faker\n",
    "import random"
   ]
  },
  {
   "cell_type": "code",
   "execution_count": 38,
   "metadata": {},
   "outputs": [],
   "source": [
    "# initiate the faker with a seed\n",
    "f = faker.Faker()\n",
    "faker.Faker.seed(123)"
   ]
  },
  {
   "cell_type": "code",
   "execution_count": 39,
   "metadata": {},
   "outputs": [],
   "source": [
    "# generate million lines with extra white spaces\n",
    "data = []\n",
    "for i in range(1000000):\n",
    "    data.append([\"  \" + f.address(),\n",
    "                 \" \" + f.name() + \" \",\n",
    "                 \" \" + str(random.randint(1,1000000))])"
   ]
  },
  {
   "cell_type": "code",
   "execution_count": 40,
   "metadata": {},
   "outputs": [
    {
     "name": "stdout",
     "output_type": "stream",
     "text": [
      "<class 'pandas.core.frame.DataFrame'>\n",
      "RangeIndex: 1000000 entries, 0 to 999999\n",
      "Data columns (total 3 columns):\n",
      "Address    1000000 non-null object\n",
      "Name       1000000 non-null object\n",
      "Salary     1000000 non-null object\n",
      "dtypes: object(3)\n",
      "memory usage: 22.9+ MB\n"
     ]
    }
   ],
   "source": [
    "df = pd.DataFrame(data, columns=[\"Address\",\"Name\",\"Salary\"])\n",
    "df.info()"
   ]
  },
  {
   "cell_type": "code",
   "execution_count": 41,
   "metadata": {},
   "outputs": [],
   "source": [
    "df.to_csv(\"test_data.csv\", index=False)"
   ]
  },
  {
   "cell_type": "markdown",
   "metadata": {},
   "source": [
    "## Measure the performance\n",
    "Now that we have find the ideal solution to our problem, let's check if it's also a quick solution. The core of the .csv_read() of pandas is writen in C and it's very fast, but once we start adding procedures on the top of that, it can be slower. "
   ]
  },
  {
   "cell_type": "code",
   "execution_count": 42,
   "metadata": {},
   "outputs": [],
   "source": [
    "import time"
   ]
  },
  {
   "cell_type": "code",
   "execution_count": 43,
   "metadata": {},
   "outputs": [],
   "source": [
    "def read_csv_regex_col(data):\n",
    "    \"\"\"To see if there's any difference to df..replace() if we do it column wise on the string columns\"\"\"\n",
    "    df = pd.read_csv(data, quotechar='\"')\n",
    "    for col in df.columns:\n",
    "        if pd.api.types.is_string_dtype(df[col]): \n",
    "            df[col] = df[col].replace({\"^\\s*|\\s*$\":\"\"}, regex=True) # remove front white spaces\n",
    "    df = df.replace({\"\":np.nan}) # if there remained only empty string \"\", change to Nan\n",
    "    return df"
   ]
  },
  {
   "cell_type": "code",
   "execution_count": 44,
   "metadata": {},
   "outputs": [],
   "source": [
    "functions = {\"No space handling\": {\"function\": pd.read_csv, \"params\": {}},\n",
    "            \"Skipinitialspace\": {\"function\": pd.read_csv, \"params\": {\"skipinitialspace\": True}},\n",
    "            \"Regex Separator\": {\"function\": pd.read_csv, \"params\": {\"sep\":\"\\s*[,]\\s*\", \"engine\":\"python\"}},\n",
    "             \"Strip blank spaces\": {\"function\": read_csv_strip, \"params\": {}},\n",
    "             \"Load and apply regex\": {\"function\": read_csv_regex, \"params\": {}},\n",
    "             \"Load and apply regex column wise\": {\"function\": read_csv_regex_col, \"params\": {}},         \n",
    "            }"
   ]
  },
  {
   "cell_type": "code",
   "execution_count": 45,
   "metadata": {},
   "outputs": [],
   "source": [
    "results = []\n",
    "statistics = []\n",
    "\n",
    "for name, f in functions.items():\n",
    "    processing_time = []\n",
    "    for i in range(7):\n",
    "        start = time.time()\n",
    "        df = f[\"function\"](\"test_data.csv\", **f[\"params\"])\n",
    "        processing_time.append(time.time() - start)\n",
    "\n",
    "        \n",
    "    # create a Series with processing time and name it based on the function used    \n",
    "    s = pd.Series(processing_time)\n",
    "    s.name = name\n",
    "    results.append(s)\n",
    "    \n",
    "    statistics.append(pd.DataFrame(df_statistics(df), index=[name]))"
   ]
  },
  {
   "cell_type": "code",
   "execution_count": 46,
   "metadata": {},
   "outputs": [
    {
     "data": {
      "text/html": [
       "<div>\n",
       "<style scoped>\n",
       "    .dataframe tbody tr th:only-of-type {\n",
       "        vertical-align: middle;\n",
       "    }\n",
       "\n",
       "    .dataframe tbody tr th {\n",
       "        vertical-align: top;\n",
       "    }\n",
       "\n",
       "    .dataframe thead th {\n",
       "        text-align: right;\n",
       "    }\n",
       "</style>\n",
       "<table border=\"1\" class=\"dataframe\">\n",
       "  <thead>\n",
       "    <tr style=\"text-align: right;\">\n",
       "      <th></th>\n",
       "      <th>0</th>\n",
       "      <th>1</th>\n",
       "      <th>2</th>\n",
       "      <th>3</th>\n",
       "      <th>4</th>\n",
       "      <th>5</th>\n",
       "      <th>6</th>\n",
       "      <th>avg</th>\n",
       "    </tr>\n",
       "  </thead>\n",
       "  <tbody>\n",
       "    <tr>\n",
       "      <td>No space handling</td>\n",
       "      <td>1.706434</td>\n",
       "      <td>1.607732</td>\n",
       "      <td>1.645485</td>\n",
       "      <td>1.562783</td>\n",
       "      <td>1.620902</td>\n",
       "      <td>1.559830</td>\n",
       "      <td>1.658466</td>\n",
       "      <td>1.623090</td>\n",
       "    </tr>\n",
       "    <tr>\n",
       "      <td>Skipinitialspace</td>\n",
       "      <td>1.350387</td>\n",
       "      <td>1.457103</td>\n",
       "      <td>1.659855</td>\n",
       "      <td>1.434163</td>\n",
       "      <td>1.395269</td>\n",
       "      <td>1.556834</td>\n",
       "      <td>1.530905</td>\n",
       "      <td>1.483502</td>\n",
       "    </tr>\n",
       "    <tr>\n",
       "      <td>Regex Separator</td>\n",
       "      <td>12.115201</td>\n",
       "      <td>12.247784</td>\n",
       "      <td>12.044860</td>\n",
       "      <td>13.650546</td>\n",
       "      <td>12.090920</td>\n",
       "      <td>11.817386</td>\n",
       "      <td>12.633818</td>\n",
       "      <td>12.371502</td>\n",
       "    </tr>\n",
       "    <tr>\n",
       "      <td>Strip blank spaces</td>\n",
       "      <td>2.649060</td>\n",
       "      <td>2.763606</td>\n",
       "      <td>2.619991</td>\n",
       "      <td>2.823653</td>\n",
       "      <td>2.843392</td>\n",
       "      <td>2.944124</td>\n",
       "      <td>2.849377</td>\n",
       "      <td>2.784743</td>\n",
       "    </tr>\n",
       "    <tr>\n",
       "      <td>Load and apply regex</td>\n",
       "      <td>12.055604</td>\n",
       "      <td>11.553127</td>\n",
       "      <td>12.396874</td>\n",
       "      <td>11.508984</td>\n",
       "      <td>11.634024</td>\n",
       "      <td>12.739988</td>\n",
       "      <td>11.273839</td>\n",
       "      <td>11.880349</td>\n",
       "    </tr>\n",
       "    <tr>\n",
       "      <td>Load and apply regex column wise</td>\n",
       "      <td>11.962280</td>\n",
       "      <td>11.007868</td>\n",
       "      <td>11.187273</td>\n",
       "      <td>12.337367</td>\n",
       "      <td>11.555488</td>\n",
       "      <td>10.859515</td>\n",
       "      <td>11.177099</td>\n",
       "      <td>11.440984</td>\n",
       "    </tr>\n",
       "  </tbody>\n",
       "</table>\n",
       "</div>"
      ],
      "text/plain": [
       "                                          0          1          2          3  \\\n",
       "No space handling                  1.706434   1.607732   1.645485   1.562783   \n",
       "Skipinitialspace                   1.350387   1.457103   1.659855   1.434163   \n",
       "Regex Separator                   12.115201  12.247784  12.044860  13.650546   \n",
       "Strip blank spaces                 2.649060   2.763606   2.619991   2.823653   \n",
       "Load and apply regex              12.055604  11.553127  12.396874  11.508984   \n",
       "Load and apply regex column wise  11.962280  11.007868  11.187273  12.337367   \n",
       "\n",
       "                                          4          5          6        avg  \n",
       "No space handling                  1.620902   1.559830   1.658466   1.623090  \n",
       "Skipinitialspace                   1.395269   1.556834   1.530905   1.483502  \n",
       "Regex Separator                   12.090920  11.817386  12.633818  12.371502  \n",
       "Strip blank spaces                 2.843392   2.944124   2.849377   2.784743  \n",
       "Load and apply regex              11.634024  12.739988  11.273839  11.880349  \n",
       "Load and apply regex column wise  11.555488  10.859515  11.177099  11.440984  "
      ]
     },
     "execution_count": 46,
     "metadata": {},
     "output_type": "execute_result"
    }
   ],
   "source": [
    "stats_perf_df = pd.DataFrame(results)\n",
    "stats_perf_df[\"avg\"] = stats_perf_df.mean(axis=1)\n",
    "stats_perf_df"
   ]
  },
  {
   "cell_type": "code",
   "execution_count": 47,
   "metadata": {},
   "outputs": [
    {
     "data": {
      "text/plain": [
       "<matplotlib.axes._subplots.AxesSubplot at 0x17e0cd88848>"
      ]
     },
     "execution_count": 47,
     "metadata": {},
     "output_type": "execute_result"
    },
    {
     "data": {
      "image/png": "[encoded data removed]",
      "text/plain": [
       "<Figure size 432x288 with 1 Axes>"
      ]
     },
     "metadata": {
      "needs_background": "light"
     },
     "output_type": "display_data"
    }
   ],
   "source": [
    "stats_perf_df[\"avg\"].plot(kind=\"bar\")"
   ]
  },
  {
   "cell_type": "code",
   "execution_count": 48,
   "metadata": {},
   "outputs": [
    {
     "data": {
      "text/html": [
       "<div>\n",
       "<style scoped>\n",
       "    .dataframe tbody tr th:only-of-type {\n",
       "        vertical-align: middle;\n",
       "    }\n",
       "\n",
       "    .dataframe tbody tr th {\n",
       "        vertical-align: top;\n",
       "    }\n",
       "\n",
       "    .dataframe thead th {\n",
       "        text-align: right;\n",
       "    }\n",
       "</style>\n",
       "<table border=\"1\" class=\"dataframe\">\n",
       "  <thead>\n",
       "    <tr style=\"text-align: right;\">\n",
       "      <th></th>\n",
       "      <th>Address_lenght</th>\n",
       "      <th>Address_type</th>\n",
       "      <th>Name_lenght</th>\n",
       "      <th>Name_type</th>\n",
       "      <th>Salary_lenght</th>\n",
       "      <th>Salary_type</th>\n",
       "    </tr>\n",
       "  </thead>\n",
       "  <tbody>\n",
       "    <tr>\n",
       "      <td>No space handling</td>\n",
       "      <td>45711572.0</td>\n",
       "      <td>object</td>\n",
       "      <td>15272074.0</td>\n",
       "      <td>object</td>\n",
       "      <td>4.998316e+11</td>\n",
       "      <td>int64</td>\n",
       "    </tr>\n",
       "    <tr>\n",
       "      <td>Skipinitialspace</td>\n",
       "      <td>45711572.0</td>\n",
       "      <td>object</td>\n",
       "      <td>14272074.0</td>\n",
       "      <td>object</td>\n",
       "      <td>4.998316e+11</td>\n",
       "      <td>int64</td>\n",
       "    </tr>\n",
       "    <tr>\n",
       "      <td>Regex Separator</td>\n",
       "      <td>9742850.0</td>\n",
       "      <td>object</td>\n",
       "      <td>12481774.0</td>\n",
       "      <td>object</td>\n",
       "      <td>4.465201e+11</td>\n",
       "      <td>float64</td>\n",
       "    </tr>\n",
       "    <tr>\n",
       "      <td>Strip blank spaces</td>\n",
       "      <td>43711572.0</td>\n",
       "      <td>object</td>\n",
       "      <td>13272074.0</td>\n",
       "      <td>object</td>\n",
       "      <td>4.998316e+11</td>\n",
       "      <td>int64</td>\n",
       "    </tr>\n",
       "    <tr>\n",
       "      <td>Load and apply regex</td>\n",
       "      <td>43711572.0</td>\n",
       "      <td>object</td>\n",
       "      <td>13272074.0</td>\n",
       "      <td>object</td>\n",
       "      <td>4.998316e+11</td>\n",
       "      <td>int64</td>\n",
       "    </tr>\n",
       "    <tr>\n",
       "      <td>Load and apply regex column wise</td>\n",
       "      <td>43711572.0</td>\n",
       "      <td>object</td>\n",
       "      <td>13272074.0</td>\n",
       "      <td>object</td>\n",
       "      <td>4.998316e+11</td>\n",
       "      <td>int64</td>\n",
       "    </tr>\n",
       "  </tbody>\n",
       "</table>\n",
       "</div>"
      ],
      "text/plain": [
       "                                  Address_lenght Address_type  Name_lenght  \\\n",
       "No space handling                     45711572.0       object   15272074.0   \n",
       "Skipinitialspace                      45711572.0       object   14272074.0   \n",
       "Regex Separator                        9742850.0       object   12481774.0   \n",
       "Strip blank spaces                    43711572.0       object   13272074.0   \n",
       "Load and apply regex                  43711572.0       object   13272074.0   \n",
       "Load and apply regex column wise      43711572.0       object   13272074.0   \n",
       "\n",
       "                                 Name_type  Salary_lenght Salary_type  \n",
       "No space handling                   object   4.998316e+11       int64  \n",
       "Skipinitialspace                    object   4.998316e+11       int64  \n",
       "Regex Separator                     object   4.465201e+11     float64  \n",
       "Strip blank spaces                  object   4.998316e+11       int64  \n",
       "Load and apply regex                object   4.998316e+11       int64  \n",
       "Load and apply regex column wise    object   4.998316e+11       int64  "
      ]
     },
     "execution_count": 48,
     "metadata": {},
     "output_type": "execute_result"
    }
   ],
   "source": [
    "pd.concat(statistics)"
   ]
  },
  {
   "cell_type": "markdown",
   "metadata": {},
   "source": [
    "## Detail of the timing function\n",
    "If you strugle to read the iteration over all the function, here's example how the it works on the skipinitialspace example"
   ]
  },
  {
   "cell_type": "code",
   "execution_count": 57,
   "metadata": {},
   "outputs": [],
   "source": [
    "processing_times = []\n",
    "for i in range(7):\n",
    "    start = time.time()\n",
    "    df = pd.read_csv(\"test_data.csv\")\n",
    "    processing_times.append(time.time() - start)"
   ]
  },
  {
   "cell_type": "code",
   "execution_count": 58,
   "metadata": {},
   "outputs": [
    {
     "data": {
      "text/plain": [
       "0    1.256785\n",
       "1    1.294549\n",
       "2    1.319469\n",
       "3    1.644080\n",
       "4    1.613763\n",
       "5    1.623683\n",
       "6    1.760450\n",
       "Name: Skipinitialspace, dtype: float64"
      ]
     },
     "execution_count": 58,
     "metadata": {},
     "output_type": "execute_result"
    }
   ],
   "source": [
    "s = pd.Series(processing_times)\n",
    "s.name = \"Skipinitialspace\"\n",
    "s"
   ]
  },
  {
   "cell_type": "markdown",
   "metadata": {},
   "source": [
    "### Single Run\n",
    "If you want to try just single processing of the file"
   ]
  },
  {
   "cell_type": "code",
   "execution_count": 51,
   "metadata": {},
   "outputs": [],
   "source": [
    "def read_csv_regex(data):\n",
    "    df = pd.read_csv(data, quotechar='\"')\n",
    "    df = df.replace({\"^\\s*|\\s*$\":\"\"}, regex=True) # remove front white spaces\n",
    "    df = df.replace({\"\":np.nan}) # if there remained only empty string \"\", change to Nan\n",
    "    return df"
   ]
  },
  {
   "cell_type": "code",
   "execution_count": 52,
   "metadata": {},
   "outputs": [
    {
     "name": "stdout",
     "output_type": "stream",
     "text": [
      "11.43640422821045\n"
     ]
    }
   ],
   "source": [
    "start = time.time()\n",
    "df = read_csv_regex(\"test_data.csv\")\n",
    "print(time.time() - start)"
   ]
  },
  {
   "cell_type": "markdown",
   "metadata": {},
   "source": [
    "# Conclusion\n",
    "We have seens that removing the extra white spaces is a costly operation, which takes at least 50% more time than loading clean .csv. We should always try to persuade our supplier to provide CSV files without extra white spaces. If it's not possible, the fastest approach is to load the data into a dataframe, iterate over the string columns and use `str.strip()`. If the blank spaces are only at the beginning (behind the delimiteres) and on before the delimiters, use pandas's `skipinitialspace=True` which removes these blank spaces during data upload. "
   ]
  }
 ],
 "metadata": {
  "kernelspec": {
   "display_name": "Python 3",
   "language": "python",
   "name": "python3"
  },
  "language_info": {
   "codemirror_mode": {
    "name": "ipython",
    "version": 3
   },
   "file_extension": ".py",
   "mimetype": "text/x-python",
   "name": "python",
   "nbconvert_exporter": "python",
   "pygments_lexer": "ipython3",
   "version": "3.7.4"
  }
 },
 "nbformat": 4,
 "nbformat_minor": 2
}
